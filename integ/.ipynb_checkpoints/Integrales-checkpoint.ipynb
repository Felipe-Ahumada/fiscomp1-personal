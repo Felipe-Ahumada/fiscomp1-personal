{
 "cells": [
  {
   "cell_type": "markdown",
   "metadata": {},
   "source": [
    "# Regla del rectangulo"
   ]
  },
  {
   "cell_type": "code",
   "execution_count": 2,
   "metadata": {},
   "outputs": [],
   "source": [
    "def rectangular(f,a,b):\n",
    "    return f(a)*(b-a)\n",
    "#Definí la regla del rectangulo"
   ]
  },
  {
   "cell_type": "code",
   "execution_count": 3,
   "metadata": {},
   "outputs": [],
   "source": [
    "from integrales import rectangular #llamo a la funcion rectangular creada.\n",
    "import numpy as np\n",
    "\n",
    "f = lambda x:np.sin(x)\n",
    "\n",
    "rectangular(f, 0, 0.5*np.pi) # Acá probamos los errores que comete el computador.\n",
    "#Out[6]: 0.0\n",
    "\n",
    "limites = [0, 0.25*np.pi, 0.5*np.pi] \n",
    "\n",
    "rectangular(f, limites[0], limites[1]) + rectangular(f, limites[1], limites[2]) \n",
    "#Acá probamos que aun asi tiene errores.\n",
    "#Out[8]: 0.5553603672697958\n",
    "\n",
    "limites = np.linspace(0,0.5*np.pi,100)\n",
    "\n",
    "integ = 0.0\n",
    "for i in range(99): #aca habra un problema\n",
    "    integ = integ + rectangular(f, limites[i], limites[i+1]) \n",
    "\n",
    "#In [11]: print(integ)\n",
    "#0.9920457059690398\n",
    "#Acá se ve que es un poco mas preciso.\n",
    "\n",
    "limites = np.linspace(0, 0.5*np.pi, 1000)\n",
    "integ = 0.0\n",
    "for i in range(limites.size-1): #aca habra un problema\n",
    "    integ = integ + rectangular(f, limites[i], limites[i+1])\n",
    "\n",
    "#In [13]: print(integ)\n",
    "#0.9992136096236369\n",
    "#y acá vemos que es casi muy preciso.\n",
    "\n"
   ]
  },
  {
   "cell_type": "markdown",
   "metadata": {},
   "source": [
    "# Regla trapezoidal"
   ]
  },
  {
   "cell_type": "code",
   "execution_count": 1,
   "metadata": {},
   "outputs": [
    {
     "data": {
      "text/plain": [
       "0.9999997939713815"
      ]
     },
     "execution_count": 1,
     "metadata": {},
     "output_type": "execute_result"
    }
   ],
   "source": [
    "def trapezoidal(f,a,b):\n",
    "    \"\"\"regla trapezoidal\"\"\"\n",
    "    return 0.5 * (f(a)+f(b)) * (b-a)\n",
    "\n",
    "from integrales import trapezoidal\n",
    "import numpy as np\n",
    "\n",
    "trapezoidal(np.sin, 0, 0.5*np.pi)\n",
    "#Out[4]: 0.7853981633974483\n",
    "#No es muy preciso\n",
    "\n",
    "f = lambda x:np.sin(x)\n",
    "\n",
    "limites = np.linspace(0, 0.5*np.pi, 1000)\n",
    "integ = 0.0\n",
    "for i in range(limites.size-1):\n",
    "    integ = integ + trapezoidal(f, limites[i], limites[i+1])\n",
    "\n",
    "integ\n",
    "\n",
    "#Out[3]: 0.9999997939713815\n",
    "\n",
    "#Muy preciso"
   ]
  },
  {
   "cell_type": "markdown",
   "metadata": {},
   "source": [
    "# Regla del punto medio, aplicada a la función hecha en clases"
   ]
  },
  {
   "cell_type": "code",
   "execution_count": 2,
   "metadata": {},
   "outputs": [
    {
     "name": "stdout",
     "output_type": "stream",
     "text": [
      "6.722533605507097\n"
     ]
    }
   ],
   "source": [
    "f = lambda x:(x-1)*np.exp(x)\n",
    "\n",
    "def midpoint_simple(f,a,b):\n",
    "    \"\"\"regla del punto medio\"\"\"\n",
    "    return (b-a)*f((a+b)/2)\n",
    "\n",
    "print(midpoint_simple(f, 0, 3))"
   ]
  },
  {
   "cell_type": "code",
   "execution_count": null,
   "metadata": {},
   "outputs": [],
   "source": []
  }
 ],
 "metadata": {
  "kernelspec": {
   "display_name": "Python 3",
   "language": "python",
   "name": "python3"
  },
  "language_info": {
   "codemirror_mode": {
    "name": "ipython",
    "version": 3
   },
   "file_extension": ".py",
   "mimetype": "text/x-python",
   "name": "python",
   "nbconvert_exporter": "python",
   "pygments_lexer": "ipython3",
   "version": "3.8.5"
  }
 },
 "nbformat": 4,
 "nbformat_minor": 4
}
