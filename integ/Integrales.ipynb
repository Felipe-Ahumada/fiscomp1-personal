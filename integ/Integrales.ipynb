{
 "cells": [
  {
   "cell_type": "markdown",
   "metadata": {},
   "source": [
    "# Regla del rectangulo"
   ]
  },
  {
   "cell_type": "code",
   "execution_count": 2,
   "metadata": {},
   "outputs": [],
   "source": [
    "def rectangular(f,a,b):\n",
    "    return f(a)*(b-a)\n",
    "#Definí la regla del rectangulo"
   ]
  },
  {
   "cell_type": "code",
   "execution_count": 3,
   "metadata": {},
   "outputs": [],
   "source": [
    "import numpy as np\n",
    "\n",
    "f = lambda x:np.sin(x)\n",
    "\n",
    "rectangular(f, 0, 0.5*np.pi)\n",
    "#Out[6]: 0.0\n",
    "\n",
    "limites = [0, Pero 0.25*np.pi, 0.5*np.pi]\n",
    "\n",
    "rectangular(f, limites[0], limites[1]) + rectangular(f, limites[1], limites[2])\n",
    "#Out[8]: 0.5553603672697958\n",
    "\n",
    "limites = np.linspace(0,0.5*np.pi,100)\n",
    "\n",
    "integ = 0.0\n",
    "for i in range(99): #aca habra un problema\n",
    "    integ = integ + rectangular(f, limites[i], limites[i+1]) \n",
    "\n",
    "#In [11]: print(integ)\n",
    "#0.9920457059690398\n",
    "\n",
    "\n",
    "limites = np.linspace(0, 0.5*np.pi, 1000)\n",
    "integ = 0.0\n",
    "for i in range(limites.size-1): #aca habra un problema\n",
    "    integ = integ + rectangular(f, limites[i], limites[i+1])\n",
    "\n",
    "#In [13]: print(integ)\n",
    "#0.9992136096236369\n"
   ]
  },
  {
   "cell_type": "code",
   "execution_count": 4,
   "metadata": {},
   "outputs": [
    {
     "name": "stdout",
     "output_type": "stream",
     "text": [
      "0.9992136096236369\n"
     ]
    }
   ],
   "source": [
    "print(integ)"
   ]
  },
  {
   "cell_type": "markdown",
   "metadata": {},
   "source": [
    "# Regla del punto medio, aplicada a la función hecha en clases"
   ]
  },
  {
   "cell_type": "code",
   "execution_count": null,
   "metadata": {},
   "outputs": [],
   "source": [
    "f = lambda x:(x-1)*np.exp(x)\n",
    "\n",
    "def midpoint_simple(f,a,b):\n",
    "    \"\"\"regla del punto medio\"\"\"\n",
    "    return (b-a)*f((a+b)/2)\n",
    "\n",
    "print(midpoint_simple(f, 0, 3))"
   ]
  }
 ],
 "metadata": {
  "kernelspec": {
   "display_name": "Python 3",
   "language": "python",
   "name": "python3"
  },
  "language_info": {
   "codemirror_mode": {
    "name": "ipython",
    "version": 3
   },
   "file_extension": ".py",
   "mimetype": "text/x-python",
   "name": "python",
   "nbconvert_exporter": "python",
   "pygments_lexer": "ipython3",
   "version": "3.8.5"
  }
 },
 "nbformat": 4,
 "nbformat_minor": 4
}
